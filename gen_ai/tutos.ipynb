{
 "cells": [
  {
   "cell_type": "code",
   "execution_count": null,
   "metadata": {
    "colab": {
     "base_uri": "https://localhost:8080/"
    },
    "executionInfo": {
     "elapsed": 775,
     "status": "ok",
     "timestamp": 1759616025406,
     "user": {
      "displayName": "Meryem BOUKHRAIS",
      "userId": "11291051826785142414"
     },
     "user_tz": -60
    },
    "id": "qIiXQiucKAz_",
    "outputId": "0e1fdc72-f8c5-4fae-e7da-d9112e2783dc"
   },
   "outputs": [
    {
     "name": "stdout",
     "output_type": "stream",
     "text": [
      "The co-founders of Apple Inc. are:\n",
      "\n",
      "1. **Steve Jobs** (1955-2011): He was the visionary and charismatic leader who played a crucial role in shaping Apple's innovative products and design philosophy. Jobs is widely recognized as one of the most successful entrepreneurs of our time.\n",
      "\n",
      "2. **Steve Wozniak** (born 1950): Known as \"Woz,\" Wozniak is a brilliant engineer and computer scientist who designed the Apple I and Apple II computers. He is also a pioneer in the development of personal computers.\n",
      "\n",
      "3. **Ronald Wayne** (born 1934): Wayne was a friend of Jobs and Wozniak who helped them establish Apple Computer in 1976. However, he sold his 10% stake in the company back to Jobs and Wozniak for $800 just a few months after its founding.\n",
      "\n",
      "Steve Jobs is often credited as the primary founder of Apple, but it's essential to acknowledge the contributions of Wozniak and Wayne in the company's early days.\n"
     ]
    }
   ],
   "source": [
    "from langchain_groq import ChatGroq\n",
    "\n",
    "llm = ChatGroq(\n",
    "    temperature= 0,\n",
    "    groq_api_key='gsk_******************',\n",
    "    model_name='llama-3.1-8b-instant'\n",
    ")\n",
    "\n",
    "rsp = llm.invoke(\"The founder of apple\")\n",
    "print(rsp.content)"
   ]
  },
  {
   "cell_type": "code",
   "execution_count": 60,
   "metadata": {
    "executionInfo": {
     "elapsed": 4,
     "status": "ok",
     "timestamp": 1759616025411,
     "user": {
      "displayName": "Meryem BOUKHRAIS",
      "userId": "11291051826785142414"
     },
     "user_tz": -60
    },
    "id": "JKDqetaCOx-8"
   },
   "outputs": [],
   "source": [
    "import chromadb\n",
    "\n",
    "client = chromadb.Client()\n",
    "coll2 = client.get_or_create_collection(name='my_coll')"
   ]
  },
  {
   "cell_type": "code",
   "execution_count": 61,
   "metadata": {
    "executionInfo": {
     "elapsed": 354,
     "status": "ok",
     "timestamp": 1759616025763,
     "user": {
      "displayName": "Meryem BOUKHRAIS",
      "userId": "11291051826785142414"
     },
     "user_tz": -60
    },
    "id": "B24aT7vPPpOs"
   },
   "outputs": [],
   "source": [
    "coll2.add(\n",
    "    documents=[\n",
    "        \"This is a document about New York\",\n",
    "        \"This is a document about Delhi\",\n",
    "    ],\n",
    "    ids=[\n",
    "        \"1\",\n",
    "        \"2\",\n",
    "    ]\n",
    ")"
   ]
  },
  {
   "cell_type": "code",
   "execution_count": 62,
   "metadata": {
    "colab": {
     "base_uri": "https://localhost:8080/",
     "height": 191
    },
    "executionInfo": {
     "elapsed": 7,
     "status": "ok",
     "timestamp": 1759616025782,
     "user": {
      "displayName": "Meryem BOUKHRAIS",
      "userId": "11291051826785142414"
     },
     "user_tz": -60
    },
    "id": "KwH9x4VZQFiP",
    "outputId": "b1dcf45d-4581-4535-df26-19c39361dc94"
   },
   "outputs": [
    {
     "data": {
      "text/plain": [
       "{'ids': ['id1', 'id2', '1', '2'],\n",
       " 'embeddings': None,\n",
       " 'documents': ['This is a document',\n",
       "  'This is another document',\n",
       "  'This is a document about New York',\n",
       "  'This is a document about Delhi'],\n",
       " 'uris': None,\n",
       " 'included': ['metadatas', 'documents'],\n",
       " 'data': None,\n",
       " 'metadatas': [None, None, None, None]}"
      ]
     },
     "metadata": {},
     "output_type": "display_data"
    }
   ],
   "source": [
    "docs = coll2.get()\n",
    "display(docs)"
   ]
  },
  {
   "cell_type": "code",
   "execution_count": 66,
   "metadata": {
    "colab": {
     "base_uri": "https://localhost:8080/",
     "height": 156
    },
    "executionInfo": {
     "elapsed": 344,
     "status": "ok",
     "timestamp": 1759616044213,
     "user": {
      "displayName": "Meryem BOUKHRAIS",
      "userId": "11291051826785142414"
     },
     "user_tz": -60
    },
    "id": "O_KljCldQOZQ",
    "outputId": "55c385bb-d179-4dfa-d75c-2d7352b96d3e"
   },
   "outputs": [
    {
     "data": {
      "text/plain": [
       "{'ids': [['1']],\n",
       " 'embeddings': None,\n",
       " 'documents': [['This is a document about New York']],\n",
       " 'uris': None,\n",
       " 'included': ['metadatas', 'documents', 'distances'],\n",
       " 'data': None,\n",
       " 'metadatas': [[None]],\n",
       " 'distances': [[1.6234629154205322]]}"
      ]
     },
     "metadata": {},
     "output_type": "display_data"
    }
   ],
   "source": [
    "rslts2 = coll2.query(\n",
    "    query_texts=['query is about apple'],\n",
    "    n_results=1\n",
    ")\n",
    "display(rslts2)"
   ]
  },
  {
   "cell_type": "code",
   "execution_count": 68,
   "metadata": {
    "colab": {
     "base_uri": "https://localhost:8080/"
    },
    "executionInfo": {
     "elapsed": 20,
     "status": "ok",
     "timestamp": 1759616141942,
     "user": {
      "displayName": "Meryem BOUKHRAIS",
      "userId": "11291051826785142414"
     },
     "user_tz": -60
    },
    "id": "pszhnJhbSi64",
    "outputId": "8dd46da2-b1e1-4bb1-abf9-4c79b823b95d"
   },
   "outputs": [
    {
     "data": {
      "text/plain": [
       "{'ids': [],\n",
       " 'embeddings': None,\n",
       " 'documents': [],\n",
       " 'uris': None,\n",
       " 'included': ['metadatas', 'documents'],\n",
       " 'data': None,\n",
       " 'metadatas': []}"
      ]
     },
     "execution_count": 68,
     "metadata": {},
     "output_type": "execute_result"
    }
   ],
   "source": [
    "coll2.delete(ids =docs['ids'])\n",
    "coll2.get()"
   ]
  },
  {
   "cell_type": "code",
   "execution_count": 73,
   "metadata": {
    "colab": {
     "base_uri": "https://localhost:8080/"
    },
    "executionInfo": {
     "elapsed": 595,
     "status": "ok",
     "timestamp": 1759616310894,
     "user": {
      "displayName": "Meryem BOUKHRAIS",
      "userId": "11291051826785142414"
     },
     "user_tz": -60
    },
    "id": "g9mb9c5HS_ku",
    "outputId": "4ff6c154-8563-41ad-8350-8fc747fa29d8"
   },
   "outputs": [
    {
     "data": {
      "text/plain": [
       "{'ids': ['id3', 'id4'],\n",
       " 'embeddings': None,\n",
       " 'documents': ['This is a document about New York',\n",
       "  'This is a document about Delhi'],\n",
       " 'uris': None,\n",
       " 'included': ['metadatas', 'documents'],\n",
       " 'data': None,\n",
       " 'metadatas': [{'source': 'https://fr.wikipedia.org/wiki/New_York'},\n",
       "  {'source': 'https://fr.wikipedia.org/wiki/Delhi'}]}"
      ]
     },
     "execution_count": 73,
     "metadata": {},
     "output_type": "execute_result"
    }
   ],
   "source": [
    "coll2.add(\n",
    "    documents=[\n",
    "        \"This is a document about New York\",\n",
    "        \"This is a document about Delhi\",\n",
    "    ],\n",
    "    ids=[\n",
    "        \"id3\",\n",
    "        \"id4\",\n",
    "    ],\n",
    "    metadatas=[\n",
    "        {\"source\": \"https://fr.wikipedia.org/wiki/New_York\"},\n",
    "        {\"source\": \"https://fr.wikipedia.org/wiki/Delhi\"},\n",
    "    ]\n",
    ")\n",
    "coll2.get()"
   ]
  },
  {
   "cell_type": "code",
   "execution_count": 76,
   "metadata": {
    "colab": {
     "base_uri": "https://localhost:8080/",
     "height": 156
    },
    "executionInfo": {
     "elapsed": 314,
     "status": "ok",
     "timestamp": 1759616346099,
     "user": {
      "displayName": "Meryem BOUKHRAIS",
      "userId": "11291051826785142414"
     },
     "user_tz": -60
    },
    "id": "Td9GMvq6TVfB",
    "outputId": "5d6f1808-208c-4218-9fef-45da15edcfab"
   },
   "outputs": [
    {
     "data": {
      "text/plain": [
       "{'ids': [['id4']],\n",
       " 'embeddings': None,\n",
       " 'documents': [['This is a document about Delhi']],\n",
       " 'uris': None,\n",
       " 'included': ['metadatas', 'documents', 'distances'],\n",
       " 'data': None,\n",
       " 'metadatas': [[{'source': 'https://fr.wikipedia.org/wiki/Delhi'}]],\n",
       " 'distances': [[1.5347875356674194]]}"
      ]
     },
     "metadata": {},
     "output_type": "display_data"
    }
   ],
   "source": [
    "rslts2 = coll2.query(\n",
    "    query_texts=['query is about Charokhan'],\n",
    "    n_results=1\n",
    ")\n",
    "display(rslts2)"
   ]
  },
  {
   "cell_type": "code",
   "execution_count": null,
   "metadata": {
    "id": "e6iyB0NLTsVJ"
   },
   "outputs": [],
   "source": []
  }
 ],
 "metadata": {
  "colab": {
   "authorship_tag": "ABX9TyO8dPft3osrjzNNX5gFnZtJ",
   "provenance": [],
   "toc_visible": true
  },
  "kernelspec": {
   "display_name": "Python 3",
   "name": "python3"
  },
  "language_info": {
   "name": "python"
  }
 },
 "nbformat": 4,
 "nbformat_minor": 0
}
